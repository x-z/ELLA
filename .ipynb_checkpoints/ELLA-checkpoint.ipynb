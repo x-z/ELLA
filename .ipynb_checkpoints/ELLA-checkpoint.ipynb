{
 "cells": [
  {
   "cell_type": "code",
   "execution_count": 2,
   "metadata": {},
   "outputs": [
    {
     "name": "stderr",
     "output_type": "stream",
     "text": [
      "C:\\Users\\iota\\Anaconda3\\lib\\site-packages\\sklearn\\cross_validation.py:44: DeprecationWarning: This module was deprecated in version 0.18 in favor of the model_selection module into which all the refactored classes and functions are moved. Also note that the interface of the new CV iterators are different from that of this module. This module will be removed in 0.20.\n",
      "  \"This module will be removed in 0.20.\", DeprecationWarning)\n",
      "C:\\Users\\iota\\Anaconda3\\lib\\site-packages\\sklearn\\linear_model\\coordinate_descent.py:484: ConvergenceWarning: Objective did not converge. You might want to increase the number of iterations. Fitting data with very small alpha may cause precision problems.\n",
      "  ConvergenceWarning)\n"
     ]
    },
    {
     "name": "stdout",
     "output_type": "stream",
     "text": [
      "Average explained variance score 0.99858265188\n",
      "Average classification accuracy 0.939\n"
     ]
    }
   ],
   "source": [
    "%matplotlib inline\n",
    "from sklearn.cross_validation import train_test_split\n",
    "\n",
    "def multi_task_train_test_split(Xs,Ys,train_size=0.5):\n",
    "    Xs_train = []\n",
    "    Ys_train = []\n",
    "    Xs_test = []\n",
    "    Ys_test = []\n",
    "    for t in range(len(Xs)):\n",
    "        X_train, X_test, y_train, y_test = train_test_split(Xs[t], np.squeeze(Ys[t]), train_size=train_size)\n",
    "        Xs_train.append(X_train)\n",
    "        Xs_test.append(X_test)\n",
    "        Ys_train.append(y_train)\n",
    "        Ys_test.append(y_test)\n",
    "    return Xs_train, Xs_test, Ys_train, Ys_test\n",
    "\n",
    "from ELLA import ELLA\n",
    "from sklearn.linear_model import Ridge, LinearRegression, LogisticRegression\n",
    "from scipy.linalg import norm\n",
    "import numpy as np\n",
    "\n",
    "T = 20\n",
    "d = 10\n",
    "n = 100\n",
    "k = 5\n",
    "noise_var = .1\n",
    "\n",
    "model = ELLA(d,k,Ridge,mu=1,lam=10**-5)\n",
    "\n",
    "S_true = np.random.randn(k,T)\n",
    "L_true = np.random.randn(d,k)\n",
    "w_true = L_true.dot(S_true)\n",
    "\n",
    "# make sure to add a bias term (it is not done automatically)\n",
    "Xs = [np.hstack((np.random.randn(n,d-1), np.ones((n,1)))) for i in range(T)]\n",
    "# generate the synthetic labels\n",
    "Ys = [Xs[i].dot(w_true[:,i]) + noise_var*np.random.randn(n,) for i in range(T)]\n",
    "# break into train and test sets\n",
    "Xs_train, Xs_test, Ys_train, Ys_test = multi_task_train_test_split(Xs,Ys,train_size=0.5)\n",
    "\n",
    "for t in range(T):\n",
    "    model.fit(Xs_train[t], Ys_train[t], t)\n",
    "print (\"Average explained variance score\", np.mean([model.score(Xs_test[t], Ys_test[t], t) for t in range(T)]))\n",
    "\n",
    "# Try out a classification problem\n",
    "Ys_binarized_train = [Ys_train[i] > 0 for i in range(T)]\n",
    "Ys_binarized_test = [Ys_test[i] > 0 for i in range(T)]\n",
    "\n",
    "model = ELLA(d,k,LogisticRegression,mu=1,lam=10**-5)\n",
    "for t in range(T):\n",
    "    model.fit(Xs_train[t], Ys_binarized_train[t], t)\n",
    "\n",
    "print (\"Average classification accuracy\", np.mean([model.score(Xs_test[t], Ys_binarized_test[t], t) for t in range(T)]))"
   ]
  },
  {
   "cell_type": "code",
   "execution_count": 3,
   "metadata": {},
   "outputs": [
    {
     "ename": "SyntaxError",
     "evalue": "Missing parentheses in call to 'print' (<ipython-input-3-af5b8d762025>, line 22)",
     "output_type": "error",
     "traceback": [
      "\u001b[1;36m  File \u001b[1;32m\"<ipython-input-3-af5b8d762025>\"\u001b[1;36m, line \u001b[1;32m22\u001b[0m\n\u001b[1;33m    print model.S\u001b[0m\n\u001b[1;37m              ^\u001b[0m\n\u001b[1;31mSyntaxError\u001b[0m\u001b[1;31m:\u001b[0m Missing parentheses in call to 'print'\n"
     ]
    }
   ],
   "source": [
    "from scipy.io import loadmat\n",
    "from sklearn.metrics import roc_auc_score\n",
    "import matplotlib.pyplot as plt\n",
    "\n",
    "data = loadmat('landminedata.mat')\n",
    "\n",
    "Xs_lm = []\n",
    "Ys_lm = []\n",
    "for t in range(data['feature'].shape[1]):\n",
    "    X_t = data['feature'][0,t]\n",
    "    Xs_lm.append(np.hstack((X_t,np.ones((X_t.shape[0],1)))))\n",
    "    Ys_lm.append(data['label'][0,t] == 1.0)\n",
    "\n",
    "d = Xs_lm[0].shape[1]\n",
    "k = 1\n",
    "\n",
    "Xs_lm_train, Xs_lm_test, Ys_lm_train, Ys_lm_test = multi_task_train_test_split(Xs_lm,Ys_lm,train_size=0.5)\n",
    "model = ELLA(d,k,LogisticRegression,{'C':10**0},mu=1,lam=10**-5)\n",
    "for t in range(T):\n",
    "    model.fit(Xs_lm_train[t], Ys_lm_train[t], t)\n",
    "\n",
    "print (model.S)    \n",
    "\n",
    "print (\"Average AUC:\", np.mean([roc_auc_score(Ys_lm_test[t],\n",
    "                                             model.predict_logprobs(Xs_lm_test[t], t))\n",
    "                               for t in range(1)]))"
   ]
  },
  {
   "cell_type": "code",
   "execution_count": 11,
   "metadata": {},
   "outputs": [],
   "source": []
  }
 ],
 "metadata": {
  "kernelspec": {
   "display_name": "Python [default]",
   "language": "python",
   "name": "python3"
  },
  "language_info": {
   "codemirror_mode": {
    "name": "ipython",
    "version": 3
   },
   "file_extension": ".py",
   "mimetype": "text/x-python",
   "name": "python",
   "nbconvert_exporter": "python",
   "pygments_lexer": "ipython3",
   "version": "3.5.3"
  }
 },
 "nbformat": 4,
 "nbformat_minor": 1
}
